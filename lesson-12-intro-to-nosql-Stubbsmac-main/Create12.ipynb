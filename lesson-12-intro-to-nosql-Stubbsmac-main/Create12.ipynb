{
    "metadata": {
        "kernelspec": {
            "display_name": "Python 3",
            "language": "python",
            "name": "python3"
        },
        "language_info": {
            "codemirror_mode": {
                "name": "ipython",
                "version": 3
            },
            "file_extension": ".py",
            "mimetype": "text/x-python",
            "name": "python",
            "nbconvert_exporter": "python",
            "pygments_lexer": "ipython3",
            "version": "3.12.2"
        }
    },
    "nbformat_minor": 2,
    "nbformat": 4,
    "cells": [
        {
            "cell_type": "markdown",
            "source": [
                "# **Intro to NoSQL**\n",
                "\n",
                "This notebook will cover basic data retrieval skills for MongoDB, as well as introduce you to some basic python concepts like variable declaration and loops. This notebook works by running Python scripts instead of SQL. It is okay if you are unfamiliar with Python! You will not be asked to code anything that I have not given you an example or reference for.\n",
                "\n",
                "### **Installing Python**\n",
                "\n",
                "To install Python, please download the most recent version from the Python site [here](https://www.python.org/downloads/). If you have already installed Python, then you are good to move to the next step.\n",
                "\n",
                "### **Installing pymongo**\n",
                "\n",
                "pymongo is a Python extension that makes it possible to interact with a MongoDB server via Python code. This is installed via the terminal:\n",
                "1. In VS Code use ctrl + ` (the key to the left of 1) to open the terminal\n",
                "2. Enter this command and hit enter: *pip install pymongo* | If that does not work, try one of these\n",
                "  - py -m pip install pymongo\n",
                "  - python -m pip install pymongo\n",
                "  - python3 -m pip install pymongo\n",
                "3. Once the terminal executes the command you are good to go. If you have trouble please reach out to your instructor.\n",
                "\n",
                "### **Installing MongoDB**\n",
                "\n",
                "To get started installing MongoDB, please see the instructions linked [here](https://otccis.gitbook.io/python-and-mongodb/installing-mongodb). If you need assistance with the installation please reach out as soon as possible.\n",
                "\n",
                "### **Choose Kernel**\n",
                "Jupyter Notebook needs to know which Python environment you would like to use to execute the script in the notebook. To select a kernel, please click on 'Select Kernel' in the top right of the window.This will pull up a list of python environments that you can choose from. Choose the version that you downloaded earlier in the notebook and you should be good to go."
            ],
            "metadata": {
                "azdata_cell_guid": "3abbd097-01a8-43fb-bd4a-4a90b149bf8a"
            },
            "attachments": {}
        },
        {
            "cell_type": "code",
            "source": [
                "#Import Modules\n",
                "from pymongo import MongoClient\n",
                "import json\n",
                "import dataload as dl"
            ],
            "metadata": {
                "azdata_cell_guid": "0bf3568b-4960-4be1-9f1f-94ab8b1984a2",
                "language": "python"
            },
            "outputs": [],
            "execution_count": null
        },
        {
            "cell_type": "markdown",
            "source": [
                "These modules give us the ability to interact with our MongoDB databases and perform useful JSON functions. The below code cell is going to create an instance of MongoClient and connect it to the MongoDB server running on your local machine. MongoClient is what we will be using to access the different functions of our MongoDB server. This information will remain the same for the entirety of the class. After connecting we will print the client address. Sometimes this value returns 'None', but you may still be connected to the database."
            ],
            "metadata": {
                "azdata_cell_guid": "70d401c6-5e38-42fc-810d-f7b6a0e71112"
            }
        },
        {
            "cell_type": "code",
            "source": [
                "#Create MongoClient object and test connection on port 27017\n",
                "client = MongoClient('mongodb://localhost:27017')\n",
                "\n",
                "#Output the address property of the client object to the console. Sometimes this will return None\n",
                "print(client.address) "
            ],
            "metadata": {
                "azdata_cell_guid": "dc606143-6bc2-4971-b707-e190ea99f5b5",
                "language": "python"
            },
            "outputs": [],
            "execution_count": null
        },
        {
            "cell_type": "markdown",
            "source": [
                "The below cell loads all of the sample data into a new database in your MongoDB server. You should receive four lines of confirmation that documents were added."
            ],
            "metadata": {
                "azdata_cell_guid": "5a58fd7b-570d-407f-bbeb-86b73c50fb13"
            }
        },
        {
            "cell_type": "code",
            "source": [
                "# Load sample data into your MongoDB server\n",
                "dl.load(client)"
            ],
            "metadata": {
                "azdata_cell_guid": "27b7acf6-d5e1-4816-bf2c-b00f55af483b",
                "language": "python"
            },
            "outputs": [],
            "execution_count": null
        },
        {
            "cell_type": "markdown",
            "source": [
                "Now everything is setup for us to begin working with your new server!\n",
                "\n",
                "### **MongoDB Basics**\n",
                "\n",
                "So far this semester we have worked with relational databases that have had a structure of\n",
                "\n",
                "- Server -> Databases -> Tables -> Records -> Attribute Values.\n",
                "\n",
                "When working with NoSQL (specifically MongoDB), we have a similar structure:\n",
                "\n",
                "- Server -> Databases -> Collections -> Documents -> Values\n",
                "\n",
                "While the comparison is not necessarily 1:1, feel free to correlate these structures as you get used to working with NoSQL formats.\n",
                "\n",
                "By default, developers work with MongoDB via terminal commands, but for simplicity sake we will be interacting with the server using the Python wrapper for MongoDB. This is what we imported at the beginning of the notebook. The wrapper provides a variety of functions that allow for us to mimic the capabilities of MongoDB terminal commands.\n",
                "\n",
                "If you have never used Python before, do not worry! It is a very easy language to pick up, and everything will be commented so that you can see what each line of script is doing. The largest adjustment will likely be that Python is dynamically typed instead of strictly typed. This means that you do not have to declare a variable with its type. You can just declare one and assign a value. Python will automatically determine the type for you.\n",
                "\n",
                "When working with MongoDB, we need a variable/object to hold the information for our database connection. In the below cell we will declare this variable (db) and assign it the information for the car_rental database that was loaded into your server by the previous cell."
            ],
            "metadata": {
                "azdata_cell_guid": "579b3443-792c-4dfe-9bb2-6350bbe00419"
            }
        },
        {
            "cell_type": "code",
            "source": [
                "# Assign database information to db variable\n",
                "db = client['car_rental']"
            ],
            "metadata": {
                "azdata_cell_guid": "71a4342a-649b-4bc2-9ece-fcc47456b0fc",
                "language": "python"
            },
            "outputs": [],
            "execution_count": null
        },
        {
            "cell_type": "markdown",
            "source": [
                "Now we have an object that we can use to interact with our database. Let's use a function that the wrapper provides to see the collections within the car_rental database."
            ],
            "metadata": {
                "azdata_cell_guid": "f056552b-444c-4e0c-8339-e537c43cd1d9"
            }
        },
        {
            "cell_type": "code",
            "source": [
                "# View a list of the collections in the database using list_collection_names() function\n",
                "print(db.list_collection_names())"
            ],
            "metadata": {
                "azdata_cell_guid": "87f3b942-71f8-4713-837d-9ba6b90bbd97",
                "language": "python"
            },
            "outputs": [],
            "execution_count": null
        },
        {
            "cell_type": "markdown",
            "source": [
                "We can see from the return that the car_rental database contains four collections. Each collection contains documents that store data. When accessing data we setup a variable to store information about the collection that we would like to access, just like we did for the database. Let's make a variable for the car collection."
            ],
            "metadata": {
                "azdata_cell_guid": "6998fa96-af6f-4242-b8d0-a909bd2da6cc"
            }
        },
        {
            "cell_type": "code",
            "source": [
                "# Assign collection information to collection variable\n",
                "collection = db['car']"
            ],
            "metadata": {
                "azdata_cell_guid": "ee04f056-5167-4e22-963f-9fe4e4c43f6d",
                "language": "python"
            },
            "outputs": [],
            "execution_count": null
        },
        {
            "cell_type": "markdown",
            "source": [
                "Notice that the syntax for selecting a collection is very similar to the syntax for selecting a database. In both instances we use the name of the server object that we want to access as a string. Now that we have a collection variable setup, we can begin talking about documents. Documents are stored in a json format, which uses key value pairs to store data. Python has a built in iterable type called a dictionary. Python dictionaries are very similar to a json format. To illustrate what a document looks like, below is a python dictionary declaration."
            ],
            "metadata": {
                "azdata_cell_guid": "e0c96b17-bc45-4747-8a36-7e2e8b7016c2"
            }
        },
        {
            "cell_type": "code",
            "source": [
                "# Dictionary example to show what a document in MongoDB looks like\n",
                "dictionary_example = {\n",
                "    'first_name': 'Timmy',\n",
                "    'last_name' : 'Turner',\n",
                "    'age': 10\n",
                "}"
            ],
            "metadata": {
                "azdata_cell_guid": "e77e7436-9ccc-4cae-b826-9c289e05e9e8",
                "language": "python"
            },
            "outputs": [],
            "execution_count": null
        },
        {
            "cell_type": "markdown",
            "source": [
                "This format allows for quick and scalable data management.\n",
                "\n",
                "### **Data Retrieval**\n",
                "\n",
                "To retrieve data from a collection, we will use the find() command to pull all documents from that collection into a variable. That variable will be a list that we can iterate through with a simple loop."
            ],
            "metadata": {
                "azdata_cell_guid": "5af8af62-86f7-42b9-aba5-80823843f48d"
            }
        },
        {
            "cell_type": "code",
            "source": [
                "# Use the find() command and store returned documents in a variable named result\n",
                "result = collection.find()\n",
                "\n",
                "# Loop through each document in the result and print them\n",
                "for document in result: #python loops must have the colon on the end\n",
                "    print(document) #python uses indention instead of curly braces to denote what is part of a block"
            ],
            "metadata": {
                "azdata_cell_guid": "5a2f6c58-1393-4986-b8f5-17ae8d7ce8bb",
                "language": "python"
            },
            "outputs": [],
            "execution_count": null
        },
        {
            "cell_type": "markdown",
            "source": [
                "We were able to pull all of our data from the car collection, but it is very difficult to read. To make it a bit more readable, we can use a json function to format the data. Let's try our query again:"
            ],
            "metadata": {
                "azdata_cell_guid": "07ebf3b6-b584-4ecc-af23-fa1c2c031627"
            }
        },
        {
            "cell_type": "code",
            "source": [
                "# Use the find() command and store returned documents in a variable named result\n",
                "result = collection.find()\n",
                "\n",
                "# Loop through each document in the result and print them, but pretty this time\n",
                "for document in result: \n",
                "    print(json.dumps(document, indent=4, default=str)) #This remains the same every time, feel free to copy/paste"
            ],
            "metadata": {
                "azdata_cell_guid": "16354ae4-4bce-4a2c-86c1-cd75fa25565a",
                "language": "python"
            },
            "outputs": [],
            "execution_count": null
        },
        {
            "cell_type": "markdown",
            "source": [
                "The above return is much easier to read. The json.dumps() function takes a string in json format and restructures it to be readable for users. You may have noticed tha the result is truncated. Feel free to view the return as a scrollable element using the option at the end of the output to see the entire collection.\n",
                "\n",
                "While there is a little more to it below the surface, the find() function essentially acts as a SELECT * for a collection. If we want to search for a specific document, then we need to provide criteria to our find() function. Our criteria must be in the form of a key-value pair, so we can use a python dictionary with a single pairing. In the below cell we will establish criteria that will help us return all documents in the car collection that have a make of \"Honda\"."
            ],
            "metadata": {
                "azdata_cell_guid": "332cfdcb-16e2-41a9-b348-d7fe56e8b265"
            }
        },
        {
            "cell_type": "code",
            "source": [
                "#Store document criteria in a dictionary\n",
                "criteria = {'make': 'Honda'}"
            ],
            "metadata": {
                "azdata_cell_guid": "b5b6b9a3-d626-46da-a755-9ce50009a963",
                "language": "python"
            },
            "outputs": [],
            "execution_count": null
        },
        {
            "cell_type": "markdown",
            "source": [
                "Now that we have established our criteria, we can pass it into our find function and loop through the documents in the result."
            ],
            "metadata": {
                "azdata_cell_guid": "f8188aa9-9e11-44f0-a6ff-ea4ba12f5462"
            }
        },
        {
            "cell_type": "code",
            "source": [
                "# Run the find operation with the criteria as an argument\n",
                "result = collection.find(criteria)\n",
                "\n",
                "# Print each document in the result in a friendly format\n",
                "for document in result:\n",
                "    print(json.dumps(document, indent=4, default=str))"
            ],
            "metadata": {
                "azdata_cell_guid": "5fac771b-010e-4d9c-819a-960c0daf2f8e",
                "language": "python"
            },
            "outputs": [],
            "execution_count": null
        },
        {
            "cell_type": "markdown",
            "source": [
                "The above cell returns the two documents that match our criteria. Storing criteria in a dictionary and passing it into the find() function is optional. You will still get the same result if you hard-code the criteria into find(). The user of the criteria variable just makes your code more reusable.\n",
                "\n",
                "Just like in SQL, we can use comparison operators like greater-than and less-than to refine a result further. The MongoDB syntax looks a little strange, but you will get used to it quickly. To use a comparison operator in MongoDB, we must use a nested key-value pair. In the below cell we are going to establish criteria to find cars that were made after 2021. This is done by creating a key-value pair that contains the comparison operator and the number to compare to. This key-value pair is then used as the value in a second key-value pair where the key is the attribute we want to query."
            ],
            "metadata": {
                "azdata_cell_guid": "a6a2365b-7763-4a3f-b254-bcd84a137fb2"
            }
        },
        {
            "cell_type": "code",
            "source": [
                "# Define a dictionary to identify values greater than 2021- $gt is used to denote greater-than\n",
                "compare = {'$gt': 2021}\n",
                "\n",
                "# Create the criteria for our find() function, using the previous key-value pair as a value\n",
                "criteria = {'year': compare}\n",
                "\n",
                "# We could have also setup our criteria like below, use whichever method makes more sense to you\n",
                "criteria = {'year': {'$gt': 2021}}\n",
                "\n",
                "# Run the find operation with the criteria as an argument\n",
                "result = collection.find(criteria)\n",
                "\n",
                "# Print each document in the result in a friendly format\n",
                "for document in result:\n",
                "    print(json.dumps(document, indent=4, default=str))"
            ],
            "metadata": {
                "azdata_cell_guid": "e5eeb399-4ad4-4a6a-957e-20732c2d5cd4",
                "language": "python"
            },
            "outputs": [],
            "execution_count": null
        },
        {
            "cell_type": "markdown",
            "source": [
                "The above cell returns all of the documents that match the specified criteria. If we have multiple criteria that we need to filter by, we can do that by including them in the criteria dictionary that we pass into the find() function. In the below cell we will use both of the filters we have designed so far and put them in the same python dictionary, separated by commas."
            ],
            "metadata": {
                "azdata_cell_guid": "9229013a-3bf6-4c70-9fb1-f992dd87e864"
            }
        },
        {
            "cell_type": "code",
            "source": [
                "# Create criteria dictionary with multiple entries for multiple criteria\n",
                "criteria = {\n",
                "    'year': {'$gt': 2021},\n",
                "    'make': 'Honda'\n",
                "    }\n",
                "\n",
                "# Run the find operation with the criteria as an argument\n",
                "result = collection.find(criteria)\n",
                "\n",
                "# Print each document in the result in a friendly format\n",
                "for document in result:\n",
                "    print(json.dumps(document, indent=4, default=str))"
            ],
            "metadata": {
                "azdata_cell_guid": "c785010b-bf70-49d9-9e63-dfe435ff7cc9",
                "language": "python"
            },
            "outputs": [],
            "execution_count": null
        },
        {
            "cell_type": "markdown",
            "source": [
                "The above cell returns the only document in our dataset that matches both of the criteria that we specified. Finally, we can use .sort to sort a result by a particular attribute. In the below cell we will sort all cars made after 2021 by make."
            ],
            "metadata": {
                "azdata_cell_guid": "e81dea04-0ad3-4324-ac52-622c69e79588"
            }
        },
        {
            "cell_type": "code",
            "source": [
                "# We could have also setup our criteria like below, use whichever method makes more sense to you\n",
                "criteria = {\n",
                "    'year': {'$gt': 2021}\n",
                "    }\n",
                "\n",
                "# Run the find operation with the criteria as an argument\n",
                "result = collection.find(criteria)\n",
                "\n",
                "# Use the sort method when looping through result\n",
                "# Specify that we are sorting by make ascending- use 1 for ascending and -1 for descending\n",
                "for document in result.sort({'make': 1}):\n",
                "    print(json.dumps(document, indent=4, default=str))"
            ],
            "metadata": {
                "azdata_cell_guid": "db9cea0e-9b3d-443d-b1e2-a4b49f15a264",
                "language": "python"
            },
            "outputs": [],
            "execution_count": null
        },
        {
            "cell_type": "markdown",
            "source": [
                "Finally, we can use information from documents as criteria to search through a collection. In this database the customer collection has an attribute called rental_history that contains the _id of all the rentals that a customer has done."
            ],
            "metadata": {
                "azdata_cell_guid": "c0fcc383-7c74-40bb-a635-76bd86b82f17"
            }
        },
        {
            "cell_type": "code",
            "source": [
                "# View a customer document using find_one()\n",
                "\n",
                "# Access the 'car_rental' database\n",
                "db = client['car_rental']\n",
                "\n",
                "# Access the 'customer' collection and find the customer with _id 'cust003'\n",
                "# We use find_one() instead of find() since we only want back a single document\n",
                "customer = db['customer'].find_one({'_id': 'cust003'})\n",
                "\n",
                "# Print customer document\n",
                "print(json.dumps(customer, indent=4, default=str))"
            ],
            "metadata": {
                "azdata_cell_guid": "96ca4d2d-167a-4a8c-b7d7-fd6d2d931db2",
                "language": "python"
            },
            "outputs": [],
            "execution_count": null
        },
        {
            "cell_type": "markdown",
            "source": [
                "If we write a query to pull out the _id values for a customer, we can use that value to get information from the rental collection about the rentals. The below cell does this:"
            ],
            "metadata": {
                "azdata_cell_guid": "375de275-15a5-44b6-b4a9-0f2b120d902a"
            }
        },
        {
            "cell_type": "code",
            "source": [
                "# Access the 'car_rental' database\n",
                "db = client['car_rental']\n",
                "\n",
                "# Access the 'customer' collection and find the customer with _id 'cust003'\n",
                "# We use find_one() instead of find() since we only want back a single document\n",
                "customer = db['customer'].find_one({'_id': 'cust003'})\n",
                "\n",
                "# Print customer document\n",
                "print(json.dumps(customer, indent=4, default=str))\n",
                "\n",
                "# Extract the rental_history from the customer document\n",
                "rental_history = customer['rental_history']\n",
                "\n",
                "# Access the 'rental' collection and find all rentals in the customer's rental history\n",
                "# Just like we used the $gt operator for greater-than, we can use the $in operator to check if a value is in a list, like in SQL\n",
                "rentals = db['rental'].find({'_id': {'$in': rental_history}})\n",
                "\n",
                "# Print each rental document\n",
                "for rental in rentals:\n",
                "    print(json.dumps(rental, indent=4, default=str))"
            ],
            "metadata": {
                "azdata_cell_guid": "26e8bc18-3ea6-4f33-a981-b830e641b7d0",
                "language": "python"
            },
            "outputs": [],
            "execution_count": null
        },
        {
            "cell_type": "markdown",
            "source": [
                "### **Exercises**\n",
                "\n",
                "For these exercises you will be working with the rental and customer collections and writing queries to select data.\n",
                "\n",
                "1. In the below cell, write a query to retrieve all documents from the rental collection."
            ],
            "metadata": {
                "azdata_cell_guid": "f355cdef-cfe9-4122-8350-5c086462b509"
            }
        },
        {
            "cell_type": "code",
            "source": [
                "# Your code here\r\n",
                "rentalDocs = db.rental.find()"
            ],
            "metadata": {
                "azdata_cell_guid": "25861b26-024e-4a02-b468-c9b12b60dd51",
                "language": "python"
            },
            "outputs": [],
            "execution_count": null
        },
        {
            "cell_type": "markdown",
            "source": [
                "2. In the below cell, write a query to retrieve all documents from the rental collection where the customer_id is \"cust002\"."
            ],
            "metadata": {
                "azdata_cell_guid": "6b5321b7-b96b-4e9c-a3ee-429ed71046b2"
            }
        },
        {
            "cell_type": "code",
            "source": [
                "# Your code here\n",
                "Cust2Docs = db.rental.find({\"customer_id\": \"cust002\"})"
            ],
            "metadata": {
                "azdata_cell_guid": "be7c70ae-545a-4e2a-950c-299c37d6622b",
                "language": "python"
            },
            "outputs": [],
            "execution_count": null
        },
        {
            "cell_type": "markdown",
            "source": [
                "3. In the below cell, write a query to retrieve all documents from the rental collection where customer _id is \"cust_003\" and the total_cost for the rental is less than 130"
            ],
            "metadata": {
                "azdata_cell_guid": "0beb6349-0631-4a63-ac0c-f9a4c35610b5"
            }
        },
        {
            "cell_type": "code",
            "source": [
                "# Your code \n",
                "Cust3CostDocs = db.rental.find({\"customer_id\": \"cust003\", \"total_cost\": {\"$lt\": 130}})"
            ],
            "metadata": {
                "azdata_cell_guid": "4eb4b313-2352-4108-acba-b3a8dec740e7",
                "language": "python"
            },
            "outputs": [],
            "execution_count": null
        },
        {
            "cell_type": "markdown",
            "source": [
                "4. In the below cell, write a query to retrieve all documents from the customer collection sorted by name."
            ],
            "metadata": {
                "azdata_cell_guid": "a53a9548-0562-4e50-a752-d1484bca7e84"
            }
        },
        {
            "cell_type": "code",
            "source": [
                "# Your code here\n",
                "customer = db.customer.find().sort(\"name\", pymongo.ASCENDING)"
            ],
            "metadata": {
                "azdata_cell_guid": "b9c02e71-3e22-4580-95b8-6bda8d047df5",
                "language": "python"
            },
            "outputs": [],
            "execution_count": null
        },
        {
            "cell_type": "markdown",
            "source": [
                "### **Scenario**\n",
                "\n",
                "For the scenario this week you must return all the information about the rentals rented by a customer with the name 'Ivy Brown'"
            ],
            "metadata": {
                "azdata_cell_guid": "82dc9cda-939b-41dc-9f56-a29a0816da84"
            }
        },
        {
            "cell_type": "code",
            "source": [
                "# Your code here\n",
                "customerIvy = db.customer.find_one({\"name\": \"Ivy Brown\"})\n",
                "if customerIvy:\n",
                "    ivyRentals = db.rental.find({\"customer_id\": customerIvy[\"_id\"]})\n",
                "else:\n",
                "    ivyRentals = []"
            ],
            "metadata": {
                "azdata_cell_guid": "c0dbd61a-a198-45a4-9da9-f9d76c58fe9c",
                "language": "python"
            },
            "outputs": [],
            "execution_count": null
        }
    ]
}